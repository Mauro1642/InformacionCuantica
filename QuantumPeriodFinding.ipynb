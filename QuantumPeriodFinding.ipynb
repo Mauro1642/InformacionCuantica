{
 "cells": [
  {
   "cell_type": "markdown",
   "id": "b34a6907-6fe2-4016-869f-c4ad1a33040e",
   "metadata": {},
   "source": [
    "# Índice\n",
    "\n",
    "- [Introducción](#Introducción)\n",
    "    - [Objetivos del cuaderno](#Objetivos-del-cuaderno)\n",
    "    - [Motivación y contexto](#Motivación)\n",
    "    - [Rol del algoritmo en la computación cuántica](#Rol-del-algoritmo)\n",
    "- [Especificación formal del problema](#Especificación-formal)\n",
    "  - [Precondiciones](#Precondiciones)\n",
    "  - [Poscondiciones](#Poscondiciones)\n",
    "- [Algoritmo cuántico paso a paso](#Algoritmo)\n",
    "- [Implementación práctica](#Implementación)\n"
   ]
  },
  {
   "cell_type": "markdown",
   "id": "391097f5-a9ad-4ba2-b44c-87f451e03e40",
   "metadata": {},
   "source": [
    "# Introducción"
   ]
  },
  {
   "cell_type": "markdown",
   "id": "e25ce60f-a0f6-4596-bd1e-419ab9f00c08",
   "metadata": {},
   "source": [
    "## Objetivos del cuaderno\n",
    " - Motivar el desarrollo de la implementación del algoritmo para la solución del problema de búsqueda de período.\n",
    " - Entender el problema que resuelve el algoritmo de búsqueda de período cuántico. Cuáles son sus componentes y sus fundamentos teóricos (especificación del problema). \n",
    " - Presentar el algoritmo a implementar y defender su correctitud (del libro Nielsen & Chuang).\n",
    " - Preparar la entrada del algoritmo a usar en la implementación: garantizar la precondición del problema.\n",
    " - Implementar el algoritmo propuesto y defender por qué lo representa adecuadamente: descripción de los circuitos y las decisiones tomadas. \n",
    " - Evaluar que la salida de la implementación cumpla la poscondición del problema.  "
   ]
  },
  {
   "cell_type": "markdown",
   "id": "0826c8ae-8678-4bef-ac32-e9ca0c9ad154",
   "metadata": {},
   "source": [
    "## Motivación"
   ]
  },
  {
   "cell_type": "markdown",
   "id": "2756dc98-6297-4256-855f-95e931210735",
   "metadata": {},
   "source": [
    "**La búsqueda de período consiste en encontrar el período $r$ de una función periódica $f(x)$, donde $f(x)=f(x+r)$ para todos los valores de $x$.** \n",
    "\n",
    "### ¿Por qué la búsqueda de período es difícil clásicamente?\n",
    "\n",
    "Supongamos que  la función $f(x) = f(x + r)$ para algún $r$ desconocido y $x$ en un dominio muy grande. Clásicamente, tendrías que evaluar $f$ muchas veces para encontrar $r$. Cuánticamente, podemos explotar la superposición y la interferencia para encontrar $r$ en tiempo polinomial.\n",
    "\n"
   ]
  },
  {
   "cell_type": "markdown",
   "id": "e641986c-dfcc-4dce-8951-de621bed9b18",
   "metadata": {},
   "source": [
    "## Rol del algoritmo en la computación cuántica (Shor, Fourier, Period Finding)"
   ]
  },
  {
   "cell_type": "markdown",
   "id": "6b6c9f2e-1bc2-4aad-894b-39eff2ea0c9a",
   "metadata": {},
   "source": [
    "**Factorización de enteros**\n",
    "\n",
    "Nielsen y Chuang presentan la factorización como la aplicación más importante del algoritmo de búsqueda de período. Para factorizar un entero compuesto $N$, el algoritmo de Shor reduce el problema a encontrar el orden de un elemento en el grupo multiplicativo $\\mathbb{Z}_N^*$ (conjunto de todos los enteros positivos menores que $N$ que son coprimos con $N$, junto con la operación de multiplicación módulo $N$). El orden de un elemento $a$ es el menor entero positivo $r$ tal que $a^r$ es congruente con $1$ módulo $N$ ($a^r \\equiv 1 (mod N)$).\n",
    "\n",
    "Dado un entero $a$ coprimo con $N$, se define la función $f(x)=a^x \\mod N$. Esta función es periódica con período igual al orden de $a$ módulo $N$. El algoritmo de búsqueda de período puede encontrar este orden eficientemente, y con probabilidad constante, el orden conduce a una factorización no trivial de $N$.\n",
    "\n",
    "La implementación de la exponenciación modular $a^x \\mod N$ requiere circuitos cuánticos para aritmética modular. Nielsen y Chuang describen cómo implementar estas operaciones usando $O((log⁡(N))^2)$ puertas elementales, manteniendo la eficiencia polinomial del algoritmo completo.\n",
    "\n",
    "**Logaritmos Discretos**\n",
    "\n",
    "El algoritmo de búsqueda de período también resuelve el problema del logaritmo discreto en grupos finitos. Dado un grupo cíclico $G$ de orden $r$, un generador $g$, y un elemento $h\\in G$, el objetivo es encontrar $x$ tal que $g^x=h$\n",
    "\n",
    "Nielsen y Chuang construyen una función periódica bidimensional $f(x_1,x_2)=g^{x_1}h^{−x_2}$ y aplican una versión generalizada del algoritmo de búsqueda de período. La función es constante (igual a la identidad del grupo) cuando $g^{x_1}=h^{x_2}$, lo que ocurre cuando $x_1−ax_2 \\equiv 0(\\mod r)$, donde $a$ es el logaritmo discreto buscado.\n",
    "\n",
    "**El Problema del Subgrupo Oculto**\n",
    "\n",
    "Nielsen y Chuang contextualizan el algoritmo de búsqueda de período dentro del marco más general del problema del subgrupo oculto. Dado un grupo $G$, un subgrupo $H\\leq G$, y una función $f:G\\rightarrow S$ que es constante en las clases laterales de $H$ y diferente entre clases laterales distintas, el objetivo es determinar $H$.\n",
    "\n",
    "El algoritmo de búsqueda de período resuelve el problema del subgrupo oculto para grupos abelianos finitos. Para el grupo cíclico $\\mathbb{Z}_N$, los subgrupos son de la forma $r\\mathbb{Z}_N$ para divisores $r$ de $N$, y el algoritmo de búsqueda de período encuentra eficientemente el generador $r$ del subgrupo oculto."
   ]
  },
  {
   "cell_type": "markdown",
   "id": "855bde1a-2389-4e10-86e6-7e4b06912d12",
   "metadata": {},
   "source": [
    "# Especificación Formal del Problema de Búsqueda de Período"
   ]
  },
  {
   "cell_type": "markdown",
   "id": "6c9d6e5b-cef1-40b8-a3c9-b63ce0b6b820",
   "metadata": {},
   "source": [
    "## Precondiciones"
   ]
  },
  {
   "cell_type": "markdown",
   "id": "c38e3d4c-db1f-4a64-a8a0-85dcea92ccde",
   "metadata": {},
   "source": [
    "**1. Dominio de la función:**\n",
    "\n",
    "Sea $f: \\mathbb{Z}_N \\rightarrow S$ una función computable, donde $N=2^t$ (para $t$ qubits) y $S$ es un conjunto finito. \n",
    "\n",
    "**2. Periodicidad estricta:**\n",
    "\n",
    "Existe un entero $r$ (período mínimo) tal que: \n",
    "$$f(x)= f(y) \\iff x \\equiv y \\ \\ (\\mod r), \\ \\ \\forall x, y \\in \\mathbb{Z}_N $$\n",
    "\n",
    "*Esto implica que $f$ es constante en clases de equivalencia módulo $r$ y distinta entre clases distintas.* \n",
    "\n",
    "**3. Tamaño del registro**\n",
    "\n",
    "El registro de entrada debe tener $t$ qubits con $N=2^t \\geq r^2$. Esto garantiza que la Transformada Cuántica de Fourier (QFT) pueda resolver $r$ con probabilidad $\\geq 1/2$ (teorema 5.1, Nielsen & Chuang)."
   ]
  },
  {
   "cell_type": "markdown",
   "id": "670bf330-9b6e-43cf-a612-00201309e9a1",
   "metadata": {},
   "source": [
    "## Poscondiciones"
   ]
  },
  {
   "cell_type": "markdown",
   "id": "e6272076-63d0-42de-b0c5-6d6d47fca7e1",
   "metadata": {},
   "source": [
    "Un algoritmo resuelve este problema si produce un entero $r'$ que satisface:\n",
    "\n",
    "**1. Validez del período**\n",
    "\n",
    "$$f(x)=f(x+r') \\ \\ \\forall x \\in \\mathbb{Z}_N$$\n",
    "\n",
    "**2. Minimalidad**\n",
    "\n",
    "$r'$ es el menor entero positivo que cumple la condición anterior. \n",
    "\n",
    "**3. Probabilidad de éxito**\n",
    "$$\\mathbb{P}(r'=r)\\geq \\frac{1}{2} \\ \\ \\text{si } N \\geq r^2$$\n",
    "\n",
    "*La probabilidad se amplifica a $1-\\delta$ repitiendo el algoritmo $\\mathcal{O} (log(1/\\delta)) $*"
   ]
  },
  {
   "cell_type": "markdown",
   "id": "4fcae34c-649b-4d92-a4e7-703a5aa3082d",
   "metadata": {},
   "source": [
    "# Algoritmo (Nielsen & Chuang)"
   ]
  },
  {
   "cell_type": "markdown",
   "id": "46f7f819-528e-4c3c-92d5-a7563c09ae55",
   "metadata": {},
   "source": [
    "El espacio de trabajo consta de dos registros cuánticos:\n",
    "\n",
    "- Registro de entrada: $t$ qubits, estados $\\ket{x}$ con $x \\in \\{ 0, \\dots, N-1\\}$.\n",
    "- Registro de salida: Suficiente para almacenar la función periódica $f(x)$, estados $\\ket{f(x)}$."
   ]
  },
  {
   "cell_type": "markdown",
   "id": "e6c3f546-8a2d-4f90-9ad3-7acf3953d773",
   "metadata": {},
   "source": [
    "## 1. Preparación del estado inicial:"
   ]
  },
  {
   "cell_type": "markdown",
   "id": "dce55f72-a47d-4b55-922a-2d5baded81dc",
   "metadata": {},
   "source": [
    "Inicializar dos registros cuánticos:\n",
    "$$\\ket{0}^{\\otimes t}\\ket{0}$$"
   ]
  },
  {
   "cell_type": "markdown",
   "id": "efdcc2b2-b6bd-415b-87e9-f25e26ddcbdb",
   "metadata": {},
   "source": [
    "## 2. Superposición uniforme:"
   ]
  },
  {
   "cell_type": "markdown",
   "id": "9ef19531-9898-4f37-9547-dd47302aec5d",
   "metadata": {},
   "source": [
    "Aplicar puertas Hadamard al primer registro para crear la superposición:\n",
    "\n",
    "$$\\frac{1}{\\sqrt{N}} \\sum_{x=0}^{N-1} \\ket{x}\\ket{0}$$\n",
    "\n",
    "*Esta superposición permite evaluar la función $f$ simultáneamente para todos los valores $x$, explotando la propiedad de paralelismo cuántico.*"
   ]
  },
  {
   "cell_type": "markdown",
   "id": "3f1cacd6-e65a-4467-9a13-7d57ea98a479",
   "metadata": {},
   "source": [
    "## 3. Evaluación cuántica de la función $f$:"
   ]
  },
  {
   "cell_type": "markdown",
   "id": "29b4c679-0d64-434a-9c52-778a637a1116",
   "metadata": {},
   "source": [
    "Aplicar el oráculo $U_f: \\ket{x}\\ket{y} \\rightarrow \\ket{x}\\ket{y \\oplus f(x)}$, donde $\\oplus$ es la suma bit a bit (XOR), que realiza: \n",
    "\n",
    "$$\\ket{x} \\ket{0} \\rightarrow \\ket{x}\\ket{f(x)}$$\n",
    "\n",
    "El estado pasa a:\n",
    "$$\\frac{1}{\\sqrt{N}}\\sum_{x=0}^{N-1}\\ket{x}\\ket{f(x)}$$\n",
    "\n",
    "*El oráculo codifica la función $f$ en el segundo registro sin colapsar la superposición del primer registro, manteniendo la coherencia cuántica.*"
   ]
  },
  {
   "cell_type": "markdown",
   "id": "6ee3e71d-a677-4be2-a9ec-18d2d7ef5ca4",
   "metadata": {},
   "source": [
    "## 4. Medir el segundo registro:"
   ]
  },
  {
   "cell_type": "markdown",
   "id": "88737960-707d-4672-bdf3-ab8952724f17",
   "metadata": {},
   "source": [
    "Al medir el segundo registro se obtiene un valor concreto $\\ket{f(x_0)}$ para algún $x_0$.\n",
    "\n",
    "Debido a que $f$ es periódica con período $r$, todos los $x$ tales que $f(x)=f(x_0)$ difieren en múltiplos de r. Por lo tanto el primer registro queda en la superposición:\n",
    "\n",
    "$$\\ket{f(x_0)} \\otimes \\frac{1}{\\sqrt{M}} \\sum_{x: f(x)=f(x_0)}\\ket{x}$$ donde $M$ es el número de $x$ que satisfacen $f(x)=f(x_0)$.\n",
    "\n",
    "Esta medición \"filtra\" la superposición inicial y proyecta el primer registro en un subespacio que refleja la periodicidad de $f$: $\\{x_0, x_0+r, x_0+2r, \\dots \\}$. Por eso el primer registro queda en la superposición periódica: $$\\frac{1}{\\sqrt{N/r}}\\sum_{k=0}^{N/r-1} \\ket{x_0+kr}$$\n",
    "\n",
    "Es decir, la medición del segundo registro es una medición parcial que colapsa ese registro y condiciona el estado del primer registro a una superposición periódica, sin medir ni colapsar directamente el primer registro. Esto es crucial para que el algoritmo pueda luego aplicar la Transformada Cuántica de Fourier al primer registro y extraer el período."
   ]
  },
  {
   "cell_type": "markdown",
   "id": "3729da2d-a2e8-4ef5-97c3-7ad6082641fc",
   "metadata": {},
   "source": [
    "## 5. Aplicación de la Transformada Cuántica de Fourier inversa (QFT$^\\dagger$):"
   ]
  },
  {
   "cell_type": "markdown",
   "id": "92d8bff1-56da-45fd-a1cf-3932cf54b62c",
   "metadata": {},
   "source": [
    "La Transformada Cuántica de Fourier inversa (QFT$^\\dagger$) es la transformación unitaria definida sobre el espacio de $N$ estados:\n",
    "\n",
    "$$QFT_N^\\dagger \\ket{x} = \\frac{1}{\\sqrt{N}} \\sum_{y=0}^{N-1} e^{-2\\pi i xy/N}\\ket{y}$$\n",
    "\n",
    "Aplicar QFT$^\\dagger$ al sistema: \n",
    "$$QFT_N^\\dagger(\\frac{1}{\\sqrt{N/r}}\\sum_{k=0}^{N/r-1} \\ket{x_0+kr})=\\frac{1}{\\sqrt{N/r}}\\sum_{k=0}^{N/r-1} QFT_N(\\ket{x_0+kr}) = \\frac{1}{\\sqrt{N/r}}\\sum_{k=0}^{N/r-1} \\frac{1}{\\sqrt{N}} \\sum_{y=0}^{N-1} e^{-2\\pi i (x_0+kr)y/N}\\ket{y}$$\n",
    "\n",
    "Intercambiando sumas:\n",
    "$$= \\frac{1}{\\sqrt{N/r}}\\frac{1}{\\sqrt{N}}\\sum_{y=0}^{N-1} \\sum_{k=0}^{N/r-1}   e^{(-2\\pi i x_0y/N) + (-2\\pi i kry/N)}\\ket{y}=\\frac{\\sqrt{r}}{N}\\sum_{y=0}^{N-1} e^{(-2\\pi i x_0y/N)} \\left( \\sum_{k=0}^{N/r-1}   e^{(-2\\pi i kry/N)}\\right) \\ket{y}$$\n",
    "\n",
    "La suma interior es geométrica: \n",
    "\n",
    "$M:= \\frac{N}{r}$\n",
    "\n",
    "$$\\sum_{k=0}^{N/r-1}   e^{-2\\pi i kry/N} = \\sum_{k=0}^{M-1}   (e^{-2\\pi i/M})^k= \\frac{1-e^{-2\\pi iM/M}}{1-e^{-2\\pi i/M}}= \\frac{1-1}{1-e^{-2\\pi i/M}}= 0 \\text{ si } e^{-2\\pi i/M}\\neq 1 $$\n",
    "\n",
    "Si $e^{-2\\pi i/M}= e^{-2\\pi i r/N}= 1 \\implies \\frac{ry}{N} \\in \\mathbb{Z} \\implies \\sum_{k=0}^{N/r-1}   e^{-2\\pi i kry/N} = \\sum_{k=0}^{N/r-1}  1 = \\frac{N}{r}$.\n",
    "\n",
    "Luego, la amplitud del estado $\\ket{y}$ es: $$ \\alpha_y= \\begin{cases} \\frac{1}{\\sqrt{r}}e^{(-2\\pi i x_0y/N)} && \\text{ si } \\frac{ry}{N} \\in \\mathbb{Z} \\\\ 0 && \\text{ en otro caso } \\end{cases}$$\n",
    "\n",
    "Es decir la amplitud es no nula solo para valores de $y$ que son múltiplos enteros de $\\frac{N}{r}$: $$y=j\\frac{N}{r}, \\ \\ j=0, 1, \\dots, r-1 $$\n",
    "*La QFT transforma la periodicidad en el dominio de la amplitud en picos localizados en múltiplos de $N/r$, lo que permite extraer información sobre $r$ mediante medición.*"
   ]
  },
  {
   "cell_type": "markdown",
   "id": "12db1fdf-9317-4caa-91e2-0a71301b1d4e",
   "metadata": {},
   "source": [
    "## 6. Medición del primer registro:"
   ]
  },
  {
   "cell_type": "markdown",
   "id": "fd31594b-6ddd-4142-8d91-a0a78062aef1",
   "metadata": {},
   "source": [
    "Al medir, obtenemos un valor $y$ cercano a un múltiplo entero de $N/r$, es decir:\n",
    "\n",
    "$$y\\approx \\frac{jN}{r}, \\ \\ j=0,1, \\dots, r-1$$"
   ]
  },
  {
   "cell_type": "markdown",
   "id": "b01017b4-fcf9-42bf-b537-c18e4c282acd",
   "metadata": {},
   "source": [
    "## 7. Post-procesamiento clásico (fracciones continuas)"
   ]
  },
  {
   "cell_type": "markdown",
   "id": "78fc4600-ab48-4554-8e09-0dffcacecb5d",
   "metadata": {},
   "source": [
    "Se utiliza el algoritmo de fracciones continuas para aproximar $y/N$ y extraer $r$ con alta probabilidad:\n",
    "\n",
    "Una fracción continua de un número real $r$ se representa como: $$r=a_0+ \\frac{1}{a_1+\\frac{1}{a_2+\\frac{1}{a_3+\\dots}}}$$ donde $a_0$ es un número entero y los demás $a_i$ son enteros positivos.\n",
    "\n",
    "**Procedimiento**\n",
    "\n",
    "Tras medir el primer registro después de la QFT, obtenemos un entero $y$ entre $0$ y $N−1$.\n",
    "\n",
    "El valor $\\frac{y}{N}$ es una aproximación cercana a $\\frac{j}{r}$ para algún entero $j$.\n",
    "\n",
    "El objetivo es encontrar la fracción $\\frac{s}{r}$ (en forma reducida) que aproxima $\\frac{y}{N}$ con un error depreciable. \n",
    "\n",
    "Para ello se calcula la expansión en fracción continua de $\\frac{y}{N}$.\n",
    "\n",
    "Los *convergentes* (fracciones parciales obtenidas truncando la fracción continua) son las mejores aproximaciones racionales a $\\frac{y}{N}$.\n",
    "\n",
    "Se prueban los convergentes para encontrar el denominador $r'$ que cumple:\n",
    "\n",
    "$$|\\frac{y}{N}-\\frac{s}{r'}|<\\frac{1}{2N}$$\n",
    "\n",
    "y que además verifica que $f(x)=f(x+r')$ para varios $x$.\n",
    "\n",
    "El denominador $r'$ que cumple estas condiciones es con alta probabilidad el período $r$ buscado."
   ]
  },
  {
   "cell_type": "markdown",
   "id": "22156476-43e2-4178-b08b-666c0eebfc6e",
   "metadata": {},
   "source": [
    "## Defensa de la correctitud"
   ]
  },
  {
   "cell_type": "markdown",
   "id": "906c6720-f86c-40dd-a283-83cfab0b6a8d",
   "metadata": {},
   "source": [
    "**¿Por qué funciona?**\n",
    "\n",
    "La medición del segundo registro colapsa la superposición a los estados que difieren en múltiplos de $r$, reflejando la periodicidad de $f$. La QFT transforma esta periodicidad en picos de amplitud en múltiplos de $N/r$, haciendo posible extraer $r$ mediante medición.\n",
    "\n",
    "**Probabilidad de éxito**\n",
    "\n",
    "Nielsen & Chuang demuestran que si $N\\geq r^2$, la probabilidad de obtener un $y$ que permita recuperar $r$ con fracciones continuas es al menos $\\frac{4}{\\pi ^2} \\approx 0.4$. Repeticiones aumentan la probabilidad arbitrariamente.\n",
    "\n",
    "**Complejidad**\n",
    "\n"
   ]
  },
  {
   "cell_type": "markdown",
   "id": "74667824-f6e6-439d-872b-97dfc4a19e70",
   "metadata": {},
   "source": [
    "# Implementación"
   ]
  },
  {
   "cell_type": "code",
   "execution_count": 32,
   "id": "c507d6c2-0bf0-498b-b949-81cee97d9d51",
   "metadata": {},
   "outputs": [
    {
     "name": "stdout",
     "output_type": "stream",
     "text": [
      "Bibliotecas importadas correctamente\n"
     ]
    }
   ],
   "source": [
    "# ==============================================\n",
    "# 1. Importaciones y configuraciones iniciales\n",
    "# ==============================================\n",
    "from qiskit import QuantumCircuit, QuantumRegister, ClassicalRegister\n",
    "from qiskit_aer import AerSimulator\n",
    "import numpy as np\n",
    "from fractions import Fraction\n",
    "import matplotlib.pyplot as plt\n",
    "\n",
    "print(\"Bibliotecas importadas correctamente\")"
   ]
  },
  {
   "cell_type": "markdown",
   "id": "a56d9ad5-e76c-4554-b330-6c79c2943853",
   "metadata": {},
   "source": [
    "- Qiskit: Framework estándar para computación cuántica en Python\n",
    "- AerSimulator: Simulador de alto rendimiento para ejecutar circuitos.\n",
    "- Fraction: Para implementar fracciones continuas en el post-procesamiento.\n",
    "- Matplotlib: Visualización de resultados\n",
    "- Numpy: Para operaciones matemáticas y uso de $\\pi$."
   ]
  },
  {
   "cell_type": "code",
   "execution_count": 34,
   "id": "5aa30593-8da6-477d-8d53-b1092e11157f",
   "metadata": {},
   "outputs": [
    {
     "name": "stdout",
     "output_type": "stream",
     "text": [
      "Configuración: r=4, t=4 qubits, N=16, m=2 bits\n"
     ]
    }
   ],
   "source": [
    "# ==============================================\n",
    "# 2. Definición de la función periódica (Precondiciones)\n",
    "# ==============================================\n",
    "def f(x, r):\n",
    "    \"\"\"Función periódica f(x) = x mod r\"\"\"\n",
    "    return x % r\n",
    "\n",
    "# Parámetros del problema\n",
    "r = 4  # Período que queremos encontrar\n",
    "t = 4  # Número de qubits (N=16 >= r²=16)\n",
    "N = 2**t\n",
    "m = 2  # Bits necesarios para representar f(x) (0-3)\n",
    "\n",
    "print(f\"Configuración: r={r}, t={t} qubits, N={N}, m={m} bits\")"
   ]
  },
  {
   "cell_type": "markdown",
   "id": "099bd0bb-a770-45d1-ae07-044a81e69862",
   "metadata": {},
   "source": [
    "Elegimos $f(x)= x \\mod r$, de este modo garantizamos que sea computable, periódica con período $r$ y de codominio finito a través de las propiedades de la operación módulo. \n",
    "\n",
    "Para los parámetros:\n",
    "- Tomamos r potencia de 2 con el fin de simplificar la implementación del oráculo ya que de esta manera podemos utilizar solo los bits menos significativos para hacer la operación.\n",
    "- Tomamos t suficientemente grande, tal que $N \\geq r^2$, para asegurar una probabilidad alta de hallar $r$.\n",
    "- Tomamos m suficiente para almacenar los valores que toma $f(x)$: 0, 1, 2 y 3. \n"
   ]
  },
  {
   "cell_type": "code",
   "execution_count": 36,
   "id": "18390aef-9be1-4d4a-ad3e-7edb4aee7e07",
   "metadata": {},
   "outputs": [
    {
     "name": "stdout",
     "output_type": "stream",
     "text": [
      "Circuitos y registros creados\n"
     ]
    }
   ],
   "source": [
    "# ==============================================\n",
    "# 3. Creación del circuito cuántico\n",
    "# ==============================================\n",
    "\n",
    "# Registros cuánticos\n",
    "input_reg = QuantumRegister(t, 'x')     # Registro para superposición de x\n",
    "output_reg = QuantumRegister(m, 'f(x)') # Registro para f(x)\n",
    "c_input = ClassicalRegister(t, 'c_x')   # Registro clásico para medir x\n",
    "\n",
    "# Circuito principal\n",
    "qc = QuantumCircuit(input_reg, output_reg, c_input)\n",
    "print(\"Circuitos y registros creados\")"
   ]
  },
  {
   "cell_type": "markdown",
   "id": "896245b9-d776-4803-b4b9-f25e7930e2ad",
   "metadata": {},
   "source": [
    "Creamos dos registros cuánticos: el de entrada $\\ket{x}$ que ocupa t qubits, y el salida para almacenar $\\ket{f(x)}$. Además, creamos un registro auxiliar para almacenar los resultados de medición.\n"
   ]
  },
  {
   "cell_type": "code",
   "execution_count": 38,
   "id": "16301efe-01f2-41cf-8dd6-d6abf0afbf99",
   "metadata": {},
   "outputs": [
    {
     "name": "stdout",
     "output_type": "stream",
     "text": [
      "Superposición aplicada\n"
     ]
    }
   ],
   "source": [
    "# ==============================================\n",
    "# 4. Superposición uniforme (Paso 2 del algoritmo)\n",
    "# ==============================================\n",
    "qc.h(input_reg)  # Aplicar Hadamard a todos los qubits de entrada\n",
    "qc.barrier(label='Superposición')  # Barrera visual\n",
    "\n",
    "print(\"Superposición aplicada\")"
   ]
  },
  {
   "cell_type": "code",
   "execution_count": 39,
   "id": "c3985255-4532-4d09-b6eb-7fe6b9700130",
   "metadata": {},
   "outputs": [
    {
     "name": "stdout",
     "output_type": "stream",
     "text": [
      "Oráculo U_f implementado\n"
     ]
    }
   ],
   "source": [
    "# ==============================================\n",
    "# 5. Implementación del oráculo U_f (Paso 3)\n",
    "# ==============================================\n",
    "# Para f(x) = x mod 4 (implementación simplificada)\n",
    "\n",
    "# Conexión directa de los bits menos significativos\n",
    "qc.cx(input_reg[0], output_reg[0])\n",
    "qc.cx(input_reg[1], output_reg[1])\n",
    "\n",
    "qc.barrier(label='Oráculo')  # Barrera visual\n",
    "print(\"Oráculo U_f implementado\")"
   ]
  },
  {
   "cell_type": "markdown",
   "id": "d437c90c-2a41-419c-a416-a034cfec4b62",
   "metadata": {},
   "source": [
    "- Implementación simplificada: Para r=4 (potencia de 2), x mod 4 corresponde exactamente a los dos bits menos significativos de x. Esto permite una implementación eficiente con solo dos compuertas CNOT. Para períodos arbitrarios se necesitaría aritmética modular cuántica completa.\n",
    "- Operaciones CNOT: Copian los bits relevantes al registro de salida."
   ]
  },
  {
   "cell_type": "code",
   "execution_count": 41,
   "id": "fbf7a51f-8bc2-467a-86d6-1c4d0d7d54ba",
   "metadata": {},
   "outputs": [
    {
     "name": "stdout",
     "output_type": "stream",
     "text": [
      "QFT inversa implementada\n"
     ]
    }
   ],
   "source": [
    "# ==============================================\n",
    "# 6. QFT inversa (Paso 5) - Implementación manual\n",
    "# ==============================================\n",
    "def inverse_qft(qc, qubits):\n",
    "    \"\"\"Implementación manual de la QFT inversa\"\"\"\n",
    "    n = len(qubits)\n",
    "    \n",
    "    # Fase 1: Swaps para corregir el orden\n",
    "    for i in range(n//2):\n",
    "        qc.swap(qubits[i], qubits[n-1-i])\n",
    "    \n",
    "    # Fase 2: Rotaciones controladas inversas\n",
    "    for j in range(n):\n",
    "        qc.h(qubits[j])\n",
    "        for k in range(j+1, n):\n",
    "            angle = -np.pi / (2 ** (k - j))\n",
    "            qc.cp(angle, qubits[k], qubits[j])\n",
    "    \n",
    "    # Nota: En Qiskit podríamos usar QFT(inverse=True)\n",
    "    # pero implementamos manualmente para facilitar comprensión\n",
    "\n",
    "# Aplicar QFT inversa\n",
    "inverse_qft(qc, input_reg)\n",
    "qc.barrier(label='QFT†')  # Barrera visual\n",
    "print(\"QFT inversa implementada\")"
   ]
  },
  {
   "cell_type": "markdown",
   "id": "21328361-adfd-4e7e-b776-e0f375fceab0",
   "metadata": {},
   "source": [
    "- Swaps para corregir el orden de los qubits.\n",
    "- Rotaciones de fase controladas inversas:\n",
    "  - Ángulos calculados: -$\\pi$/2^(k-j) para la rotación controlada.\n",
    "  - Esta transformación convierte periodicidad en picos medibles.\n",
    "\n",
    "Se realiza la implementación manual para:\n",
    "- Demostrar su funcionamiento interno.\n",
    "- Mostrar cómo las rotaciones de fase crean interferencia.\n",
    "- Ilustrar la corrección de orden con swaps. "
   ]
  },
  {
   "cell_type": "code",
   "execution_count": 43,
   "id": "29ba783c-ce80-44d9-b856-4c83a1e5b2e5",
   "metadata": {},
   "outputs": [
    {
     "name": "stdout",
     "output_type": "stream",
     "text": [
      "Medición configurada\n",
      "\n",
      "Circuito completo:\n",
      "        ┌───┐ Superposición            Oráculo    ┌───┐                    »\n",
      "   x_0: ┤ H ├───────░─────────■───────────░─────X─┤ H ├─■─────────■────────»\n",
      "        ├───┤       ░         │           ░     │ └───┘ │P(-π/2)  │        »\n",
      "   x_1: ┤ H ├───────░─────────┼────■──────░─────┼───X───■─────────┼────────»\n",
      "        ├───┤       ░         │    │      ░     │   │             │P(-π/4) »\n",
      "   x_2: ┤ H ├───────░─────────┼────┼──────░─────┼───X─────────────■────────»\n",
      "        ├───┤       ░         │    │      ░     │                          »\n",
      "   x_3: ┤ H ├───────░─────────┼────┼──────░─────X──────────────────────────»\n",
      "        └───┘       ░       ┌─┴─┐  │      ░                                »\n",
      "f(x)_0: ────────────░───────┤ X ├──┼──────░────────────────────────────────»\n",
      "                    ░       └───┘┌─┴─┐    ░                                »\n",
      "f(x)_1: ────────────░────────────┤ X ├────░────────────────────────────────»\n",
      "                    ░            └───┘    ░                                »\n",
      " c_x: 4/═══════════════════════════════════════════════════════════════════»\n",
      "                                                                           »\n",
      "«                                                                QFT† ┌─┐      »\n",
      "«   x_0: ──────■──────────────────────────────────────────────────░───┤M├──────»\n",
      "«        ┌───┐ │                                                  ░   └╥┘┌─┐   »\n",
      "«   x_1: ┤ H ├─┼─────────■─────────■──────────────────────────────░────╫─┤M├───»\n",
      "«        └───┘ │         │P(-π/2)  │        ┌───┐                 ░    ║ └╥┘┌─┐»\n",
      "«   x_2: ──────┼─────────■─────────┼────────┤ H ├─■───────────────░────╫──╫─┤M├»\n",
      "«              │P(-π/8)            │P(-π/4) └───┘ │P(-π/2) ┌───┐  ░    ║  ║ └╥┘»\n",
      "«   x_3: ──────■───────────────────■──────────────■────────┤ H ├──░────╫──╫──╫─»\n",
      "«                                                          └───┘  ░    ║  ║  ║ »\n",
      "«f(x)_0: ─────────────────────────────────────────────────────────░────╫──╫──╫─»\n",
      "«                                                                 ░    ║  ║  ║ »\n",
      "«f(x)_1: ─────────────────────────────────────────────────────────░────╫──╫──╫─»\n",
      "«                                                                 ░    ║  ║  ║ »\n",
      "« c_x: 4/══════════════════════════════════════════════════════════════╩══╩══╩═»\n",
      "«                                                                      0  1  2 »\n",
      "«           \n",
      "«   x_0: ───\n",
      "«           \n",
      "«   x_1: ───\n",
      "«           \n",
      "«   x_2: ───\n",
      "«        ┌─┐\n",
      "«   x_3: ┤M├\n",
      "«        └╥┘\n",
      "«f(x)_0: ─╫─\n",
      "«         ║ \n",
      "«f(x)_1: ─╫─\n",
      "«         ║ \n",
      "« c_x: 4/═╩═\n",
      "«         3 \n"
     ]
    }
   ],
   "source": [
    "# ==============================================\n",
    "# 7. Medición (Paso 6)\n",
    "# ==============================================\n",
    "qc.measure(input_reg, c_input)\n",
    "print(\"Medición configurada\")\n",
    "\n",
    "# Visualizar circuito\n",
    "print(\"\\nCircuito completo:\")\n",
    "print(qc.draw())"
   ]
  },
  {
   "cell_type": "markdown",
   "id": "86cc29cc-ea69-40fd-beb9-8c84b51fc662",
   "metadata": {},
   "source": [
    "- Medición del primer registro: Proporciona valores $y$ que son múltiplos de $N/r$.\n",
    "- No medimos el segundo registro: En la implementación física esto sería necesario, pero conceptualmente ya hemos colapsado el estado.\n",
    "- La visualización del circuito ayuda a entender el flujo"
   ]
  },
  {
   "cell_type": "code",
   "execution_count": 45,
   "id": "31eab38c-8fe4-4204-b0ee-b04bf812fb6e",
   "metadata": {},
   "outputs": [
    {
     "name": "stdout",
     "output_type": "stream",
     "text": [
      "\n",
      "Resultados de las mediciones:\n"
     ]
    },
    {
     "data": {
      "image/png": "[encoded data removed]",
      "text/plain": [
       "<Figure size 640x480 with 1 Axes>"
      ]
     },
     "metadata": {},
     "output_type": "display_data"
    }
   ],
   "source": [
    "# ==============================================\n",
    "# 8. Ejecución del circuito\n",
    "# ==============================================\n",
    "simulator = AerSimulator()\n",
    "compiled_circuit = qc.decompose()  # Descomponer en puertas básicas\n",
    "result = simulator.run(compiled_circuit, shots=100).result()\n",
    "counts = result.get_counts()\n",
    "\n",
    "# Visualizar resultados\n",
    "print(\"\\nResultados de las mediciones:\")\n",
    "plt.bar(counts.keys(), counts.values())\n",
    "plt.title(f\"Resultados para r={r} (N={N})\")\n",
    "plt.xlabel(\"Estado medido\")\n",
    "plt.ylabel(\"Frecuencia\")\n",
    "plt.xticks(rotation=90)\n",
    "plt.show()"
   ]
  },
  {
   "cell_type": "code",
   "execution_count": 46,
   "id": "7e541ee2-8822-4474-93b7-2f59bac602bf",
   "metadata": {},
   "outputs": [
    {
     "name": "stdout",
     "output_type": "stream",
     "text": [
      "\n",
      "Período encontrado: 4 (esperado: 4)\n"
     ]
    }
   ],
   "source": [
    "# ==============================================\n",
    "# 9. Post-procesamiento con fracciones continuas (Paso 7)\n",
    "# ==============================================\n",
    "def find_period_from_measurements(counts, N, r):\n",
    "    \"\"\"Encuentra el período usando fracciones continuas\"\"\"\n",
    "    candidates = []\n",
    "    \n",
    "    for measurement in counts:\n",
    "        y = int(measurement, 2)  # Convertir binario a entero\n",
    "        \n",
    "        # Ignorar medición 0\n",
    "        if y == 0:\n",
    "            continue\n",
    "            \n",
    "        # Calcular fracción continua\n",
    "        fraction = Fraction(y, N).limit_denominator(r*2)\n",
    "        candidate = fraction.denominator\n",
    "        \n",
    "        # Verificar si es divisor válido\n",
    "        if r % candidate == 0:\n",
    "            candidates.append(candidate)\n",
    "    \n",
    "    # Seleccionar el candidato más común\n",
    "    if candidates:\n",
    "        return max(set(candidates), key=candidates.count)\n",
    "    return None\n",
    "\n",
    "# Encontrar período\n",
    "found_period = find_period_from_measurements(counts, N, r)\n",
    "print(f\"\\nPeríodo encontrado: {found_period} (esperado: {r})\")"
   ]
  },
  {
   "cell_type": "markdown",
   "id": "0900b8d9-6df9-4b22-900f-6b9d24b64a7a",
   "metadata": {},
   "source": [
    "- Fracciones continuas: Método eficiente para aproximar y/N\n",
    "\n",
    "- limit_denominator(r*2): Limita la búsqueda a denominadores relevantes\n",
    "\n",
    "- Verificación: Confirma que el candidato es divisor de r\n",
    "\n",
    "- Selección por frecuencia: Usa el candidato más común de las mediciones"
   ]
  },
  {
   "cell_type": "code",
   "execution_count": 48,
   "id": "28896608-e2e6-42f5-b17c-955999ba689a",
   "metadata": {},
   "outputs": [
    {
     "name": "stdout",
     "output_type": "stream",
     "text": [
      "✅ ¡Éxito! Período correcto encontrado\n",
      "El algoritmo funciona como se esperaba\n"
     ]
    }
   ],
   "source": [
    "# ==============================================\n",
    "# 10. Validación del resultado\n",
    "# ==============================================\n",
    "if found_period == r:\n",
    "    print(\"✅ ¡Éxito! Período correcto encontrado\")\n",
    "    print(\"El algoritmo funciona como se esperaba\")\n",
    "else:\n",
    "    print(\"❌ Error: El período encontrado no coincide\")\n",
    "    print(\"Posibles causas: muy pocos shots, ruido, o implementación del oráculo\")"
   ]
  },
  {
   "cell_type": "markdown",
   "id": "6e65d3bb-00f9-47f8-a3be-043548add96a",
   "metadata": {},
   "source": [
    "## Bibliografía"
   ]
  },
  {
   "cell_type": "markdown",
   "id": "370fd915-bda5-416e-9238-0a3f8b1fcadc",
   "metadata": {},
   "source": [
    "- Quantum Computation and Quantum Information Nielsen & Chuang"
   ]
  }
 ],
 "metadata": {
  "kernelspec": {
   "display_name": "Python 3 (ipykernel)",
   "language": "python",
   "name": "python3"
  },
  "language_info": {
   "codemirror_mode": {
    "name": "ipython",
    "version": 3
   },
   "file_extension": ".py",
   "mimetype": "text/x-python",
   "name": "python",
   "nbconvert_exporter": "python",
   "pygments_lexer": "ipython3",
   "version": "3.12.2"
  }
 },
 "nbformat": 4,
 "nbformat_minor": 5
}
